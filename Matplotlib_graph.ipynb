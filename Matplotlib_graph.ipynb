{
  "cells": [
    {
      "metadata": {
        "trusted": true
      },
      "cell_type": "code",
      "source": "%matplotlib inline\nfrom scipy.stats import norm\nimport matplotlib.pyplot as plt\nimport numpy as np",
      "execution_count": null,
      "outputs": []
    },
    {
      "metadata": {
        "trusted": true
      },
      "cell_type": "code",
      "source": "x = np.arange(-3,3,0.001)\ny = norm.pdf(x)\n\nplt.plot (x,y)\n\nplt.show()",
      "execution_count": null,
      "outputs": []
    },
    {
      "metadata": {},
      "cell_type": "markdown",
      "source": ""
    },
    {
      "metadata": {
        "trusted": true
      },
      "cell_type": "code",
      "source": "plt.plot(x,y)\ny1 = norm.pdf(x,1.0,0.5)\n\nplt.plot(x,y1)\nplt.show()",
      "execution_count": null,
      "outputs": []
    },
    {
      "metadata": {
        "trusted": true
      },
      "cell_type": "code",
      "source": "plt.plot(x,y)\nplt.plot(x,y1)\nplt.savefig('./myplot.png', format = 'png')",
      "execution_count": null,
      "outputs": []
    },
    {
      "metadata": {
        "trusted": true
      },
      "cell_type": "code",
      "source": "axes = plt.axes()\naxes.set_xlim([-5,5])\naxes.set_ylim([0,1.0])\naxes.set_xticks([-5,-4,-3,-2,-1,0,1,2,3,4,5])\naxes.set_yticks([0,0.1,0.2,0.3,0.4,0.5,0.6,0.7,0.8,0.9,1.0])\nplt.plot (x,y)\nplt.plot (x,y1)\nplt.show()",
      "execution_count": null,
      "outputs": []
    },
    {
      "metadata": {
        "trusted": true
      },
      "cell_type": "code",
      "source": "plt.grid()\nplt.plot(x,y)\nplt.plot(x,y1)\nplt.show()",
      "execution_count": null,
      "outputs": []
    },
    {
      "metadata": {
        "trusted": true
      },
      "cell_type": "code",
      "source": "plt.plot(x,y,'b-')\nplt.plot(x,y1,'r')\nplt.show()",
      "execution_count": null,
      "outputs": []
    },
    {
      "metadata": {
        "trusted": true
      },
      "cell_type": "code",
      "source": "plt.xlabel('x')\nplt.ylabel('y')\nplt.plot(x,y)\nplt.plot(x,y1)\n\nplt.legend(['norm0','norm1'], loc=4)\nplt.show()",
      "execution_count": null,
      "outputs": []
    },
    {
      "metadata": {
        "trusted": true
      },
      "cell_type": "code",
      "source": "plt.rcdefaults()\nvalues=[2,3,3,6,4,7]\ncolors=['r','g','b','c','m','y']\nexplode=[0,0,0,0,0,0]\nlables=['Japan','Vietnam','Nipol','Myanmar','Indonesia','China']\nplt.pie(values,colors=colors,lables=lables,explode=explode)\nplt.title('Nation')\nplt.show()",
      "execution_count": null,
      "outputs": []
    },
    {
      "metadata": {
        "trusted": true
      },
      "cell_type": "code",
      "source": "",
      "execution_count": null,
      "outputs": []
    }
  ],
  "metadata": {
    "kernelspec": {
      "name": "python36",
      "display_name": "Python 3.6",
      "language": "python"
    },
    "language_info": {
      "mimetype": "text/x-python",
      "nbconvert_exporter": "python",
      "name": "python",
      "pygments_lexer": "ipython3",
      "version": "3.6.6",
      "file_extension": ".py",
      "codemirror_mode": {
        "version": 3,
        "name": "ipython"
      }
    }
  },
  "nbformat": 4,
  "nbformat_minor": 2
}